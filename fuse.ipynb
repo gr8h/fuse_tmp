{
 "cells": [
  {
   "cell_type": "markdown",
   "metadata": {},
   "source": [
    "# FUSE Metrics\n"
   ]
  },
  {
   "cell_type": "code",
   "execution_count": 3,
   "metadata": {},
   "outputs": [],
   "source": [
    "# Constants provided in the scenario\n",
    "initial_supply = 300000000000000000000000000  # Initial supply with decimals\n",
    "total_staked = 105510611363742155128930637  # Total staked with decimals\n",
    "current_block = 28983460\n",
    "starting_block = 100\n",
    "blocks_per_year = 6307200\n",
    "inflation = 5 / 100  # inflation rate in decimal\n",
    "decimals = 10**18  # conversion factor for dealing with decimals\n",
    "\n",
    "# Gas information and prices\n",
    "gas_used_today = 26576061981  # total gas used today\n",
    "average_gas_price = 10.93  # average gas price in Gwei\n",
    "coin_price = 0.081707  # price of the coin in USD\n",
    "seconds_per_day = 86400\n",
    "seconds_per_year = 365 * seconds_per_day\n",
    "\n",
    "# Calculation for Inflation Tokens\n",
    "elapsed_blocks = current_block - starting_block\n",
    "inflation_tokens = initial_supply * inflation * (elapsed_blocks / blocks_per_year)\n"
   ]
  },
  {
   "cell_type": "code",
   "execution_count": 21,
   "metadata": {},
   "outputs": [
    {
     "name": "stdout",
     "output_type": "stream",
     "text": [
      "Total Supply: 368929223.74429226\n"
     ]
    }
   ],
   "source": [
    "# Total Supply\n",
    "total_supply = initial_supply + inflation_tokens\n",
    "print(f\"Total Supply: {total_supply / decimals}\")"
   ]
  },
  {
   "cell_type": "code",
   "execution_count": 22,
   "metadata": {},
   "outputs": [
    {
     "name": "stdout",
     "output_type": "stream",
     "text": [
      "Circulating Supply: 263418612.38055012\n"
     ]
    }
   ],
   "source": [
    "circulating_supply = total_supply - total_staked\n",
    "print(f\"Circulating Supply: {circulating_supply/ decimals}\")"
   ]
  },
  {
   "cell_type": "code",
   "execution_count": 26,
   "metadata": {},
   "outputs": [
    {
     "name": "stdout",
     "output_type": "stream",
     "text": [
      "Staking Ratio: 40.05%\n"
     ]
    }
   ],
   "source": [
    "# Staking Ratio Calculation based on the circulating supply\n",
    "staking_ratio = (total_staked / circulating_supply) * 100\n",
    "print(f\"Staking Ratio: {staking_ratio:.2f}%\")"
   ]
  },
  {
   "cell_type": "code",
   "execution_count": 32,
   "metadata": {},
   "outputs": [],
   "source": [
    "# Value of Gas Used (converted gas price from Gwei to ether by dividing by 1e9)\n",
    "value_of_gas_used = (gas_used_today * (average_gas_price / 1e9) * coin_price)\n",
    "\n",
    "# Annualizing Gas Used\n",
    "annualized_gas_value = value_of_gas_used * (seconds_per_year / seconds_per_day)"
   ]
  },
  {
   "cell_type": "code",
   "execution_count": 33,
   "metadata": {},
   "outputs": [
    {
     "name": "stdout",
     "output_type": "stream",
     "text": [
      "APR: 17.48%\n"
     ]
    }
   ],
   "source": [
    "# Annual Inflation Rate\n",
    "monthly_provisions = total_supply * (inflation / 12)\n",
    "annualized_monthly_provisions = monthly_provisions * 12\n",
    "\n",
    "apr_new = ((annualized_monthly_provisions + annualized_gas_value) / total_staked) * 100\n",
    "print(f\"APR: {apr_new:.2f}%\")"
   ]
  },
  {
   "cell_type": "code",
   "execution_count": 35,
   "metadata": {},
   "outputs": [
    {
     "name": "stdout",
     "output_type": "stream",
     "text": [
      "APR: 18.68%\n"
     ]
    }
   ],
   "source": [
    "# Annual Provisions from Staking\n",
    "# assuming that inflation are distributed proportionally to the amount staked.\n",
    "annual_provisions = inflation_tokens * (total_staked / total_supply)\n",
    "\n",
    "# APR Calculation\n",
    "apr = ((annual_provisions + annualized_gas_value) / total_staked) * 100\n",
    "print(f\"APR: {apr:.2f}%\")"
   ]
  },
  {
   "cell_type": "code",
   "execution_count": null,
   "metadata": {},
   "outputs": [],
   "source": []
  }
 ],
 "metadata": {
  "kernelspec": {
   "display_name": ".venv",
   "language": "python",
   "name": "python3"
  },
  "language_info": {
   "codemirror_mode": {
    "name": "ipython",
    "version": 3
   },
   "file_extension": ".py",
   "mimetype": "text/x-python",
   "name": "python",
   "nbconvert_exporter": "python",
   "pygments_lexer": "ipython3",
   "version": "3.10.10"
  }
 },
 "nbformat": 4,
 "nbformat_minor": 2
}
